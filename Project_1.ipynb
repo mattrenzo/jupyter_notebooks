{
 "cells": [
  {
   "cell_type": "markdown",
   "metadata": {},
   "source": [
    "# NBA SHOT LOGS"
   ]
  },
  {
   "cell_type": "markdown",
   "metadata": {},
   "source": [
    "## The Dataset"
   ]
  },
  {
   "cell_type": "markdown",
   "metadata": {},
   "source": [
    "The dataset contains info on shots taken during the 2014-2015 NBA season, with columns displaying who took the shot, where on the court was the shot taken from, nearest defender, etc. There are 21 columns in total and 128069 observations.\n",
    "\n",
    "The data was found on https://www.kaggle.com/dansbecker/nba-shot-logs, but originally scraped from NBA's REST API.\n"
   ]
  },
  {
   "cell_type": "markdown",
   "metadata": {},
   "source": [
    "### Columns"
   ]
  },
  {
   "cell_type": "markdown",
   "metadata": {},
   "source": [
    "There are 21 columns in total:\n",
    "1.\tGAME_ID: the ID of the game on the NBA website.\n",
    "2.\tMATCHUP: Date and the two teams' abbreviated names.\n",
    "3.\tLOCATION: A (away) or H (home), from the shot taker's perspective.\n",
    "4.\tW: W (win) or L (loss), from the shot taker's perspective.\n",
    "5.\tFINAL_MARGIN: Point differential between the two teams at the end of regulation.\n",
    "6.\tSHOT_NUMBER: Number of the shot taken by that player during the game.\n",
    "7.\tPERIOD: Which period the shot was taken at.\n",
    "8.\tGAME_CLOCK: Game time played until the moment of the shot.\n",
    "9.\tSHOT_CLOCK: Seconds into the shot clock when the shot was taken (time allotted by the shot clock in the NBA is 24s).\n",
    "10.\tDRIBBLES: How many dribbles taken before the shot.\n",
    "11.\tTOUCH_TIME: Time with the ball before taking the shot.\n",
    "12.\tSHOT_DIST: How far the shot is from the basket (measured in feet).\n",
    "13.\tPTS_TYPE: 2 or 3 (depends on whether the shot was taken inside or outside the 3-point line).\n",
    "14.\tSHOT_RESULT: made/missed.\n",
    "15.\tCLOSEST_DEFENDER: Name of the closest defender.\n",
    "16.\tCLOSEST_DEFENDER_PLAYER_ID: Id of the closest defender.\n",
    "17.\tCLOSE_DEF_DIST: Distance of the closest defender from the shot taker.\n",
    "18.\tFGM: Field goals made until that shot by that player.\n",
    "19.\tPTS: How many points the player had until that shot.\n",
    "20.\tplayer_name: Name of the player taking the shot\n",
    "21.\tplayer_id: Shot taker ID\n"
   ]
  },
  {
   "cell_type": "markdown",
   "metadata": {},
   "source": [
    "## Data prep/cleaning process"
   ]
  },
  {
   "cell_type": "code",
   "execution_count": 1,
   "metadata": {},
   "outputs": [],
   "source": [
    "import pandas as pd\n",
    "import numpy as np\n",
    "import datetime\n",
    "import matplotlib.pyplot as plt\n",
    "import matplotlib\n",
    "matplotlib.style.use('fivethirtyeight')"
   ]
  },
  {
   "cell_type": "code",
   "execution_count": 2,
   "metadata": {},
   "outputs": [],
   "source": [
    "# import data\n",
    "df = pd.read_csv(\"shot_logs.csv\")"
   ]
  },
  {
   "cell_type": "markdown",
   "metadata": {},
   "source": [
    "First thing that was done was to check the type of each column:"
   ]
  },
  {
   "cell_type": "code",
   "execution_count": 3,
   "metadata": {},
   "outputs": [
    {
     "data": {
      "text/plain": [
       "GAME_ID                         int64\n",
       "MATCHUP                        object\n",
       "LOCATION                       object\n",
       "W                              object\n",
       "FINAL_MARGIN                    int64\n",
       "SHOT_NUMBER                     int64\n",
       "PERIOD                          int64\n",
       "GAME_CLOCK                     object\n",
       "SHOT_CLOCK                    float64\n",
       "DRIBBLES                        int64\n",
       "TOUCH_TIME                    float64\n",
       "SHOT_DIST                     float64\n",
       "PTS_TYPE                        int64\n",
       "SHOT_RESULT                    object\n",
       "CLOSEST_DEFENDER               object\n",
       "CLOSEST_DEFENDER_PLAYER_ID      int64\n",
       "CLOSE_DEF_DIST                float64\n",
       "FGM                             int64\n",
       "PTS                             int64\n",
       "player_name                    object\n",
       "player_id                       int64\n",
       "dtype: object"
      ]
     },
     "execution_count": 3,
     "metadata": {},
     "output_type": "execute_result"
    }
   ],
   "source": [
    "df.dtypes"
   ]
  },
  {
   "cell_type": "markdown",
   "metadata": {},
   "source": [
    "The only column that needs to be changed is the GAME_CLOCK column (originally an object type) to number of SECONDS after the game started so it can be used as a measure during the data analysis. "
   ]
  },
  {
   "cell_type": "code",
   "execution_count": 4,
   "metadata": {},
   "outputs": [],
   "source": [
    "#Turns object into datetime64 type then into number of seconds\n",
    "df['GAME_CLOCK'] = (pd.to_datetime(df['GAME_CLOCK'], format=\"%M:%S\") - pd.to_datetime('1900-01-01')).dt.total_seconds()"
   ]
  },
  {
   "cell_type": "markdown",
   "metadata": {},
   "source": [
    "Here are the first 5 observations of the dataset: "
   ]
  },
  {
   "cell_type": "code",
   "execution_count": 5,
   "metadata": {},
   "outputs": [
    {
     "data": {
      "text/html": [
       "<div>\n",
       "<style scoped>\n",
       "    .dataframe tbody tr th:only-of-type {\n",
       "        vertical-align: middle;\n",
       "    }\n",
       "\n",
       "    .dataframe tbody tr th {\n",
       "        vertical-align: top;\n",
       "    }\n",
       "\n",
       "    .dataframe thead th {\n",
       "        text-align: right;\n",
       "    }\n",
       "</style>\n",
       "<table border=\"1\" class=\"dataframe\">\n",
       "  <thead>\n",
       "    <tr style=\"text-align: right;\">\n",
       "      <th></th>\n",
       "      <th>GAME_ID</th>\n",
       "      <th>MATCHUP</th>\n",
       "      <th>LOCATION</th>\n",
       "      <th>W</th>\n",
       "      <th>FINAL_MARGIN</th>\n",
       "      <th>SHOT_NUMBER</th>\n",
       "      <th>PERIOD</th>\n",
       "      <th>GAME_CLOCK</th>\n",
       "      <th>SHOT_CLOCK</th>\n",
       "      <th>DRIBBLES</th>\n",
       "      <th>...</th>\n",
       "      <th>SHOT_DIST</th>\n",
       "      <th>PTS_TYPE</th>\n",
       "      <th>SHOT_RESULT</th>\n",
       "      <th>CLOSEST_DEFENDER</th>\n",
       "      <th>CLOSEST_DEFENDER_PLAYER_ID</th>\n",
       "      <th>CLOSE_DEF_DIST</th>\n",
       "      <th>FGM</th>\n",
       "      <th>PTS</th>\n",
       "      <th>player_name</th>\n",
       "      <th>player_id</th>\n",
       "    </tr>\n",
       "  </thead>\n",
       "  <tbody>\n",
       "    <tr>\n",
       "      <th>0</th>\n",
       "      <td>21400899</td>\n",
       "      <td>MAR 04, 2015 - CHA @ BKN</td>\n",
       "      <td>A</td>\n",
       "      <td>W</td>\n",
       "      <td>24</td>\n",
       "      <td>1</td>\n",
       "      <td>1</td>\n",
       "      <td>69.0</td>\n",
       "      <td>10.8</td>\n",
       "      <td>2</td>\n",
       "      <td>...</td>\n",
       "      <td>7.7</td>\n",
       "      <td>2</td>\n",
       "      <td>made</td>\n",
       "      <td>Anderson, Alan</td>\n",
       "      <td>101187</td>\n",
       "      <td>1.3</td>\n",
       "      <td>1</td>\n",
       "      <td>2</td>\n",
       "      <td>brian roberts</td>\n",
       "      <td>203148</td>\n",
       "    </tr>\n",
       "    <tr>\n",
       "      <th>1</th>\n",
       "      <td>21400899</td>\n",
       "      <td>MAR 04, 2015 - CHA @ BKN</td>\n",
       "      <td>A</td>\n",
       "      <td>W</td>\n",
       "      <td>24</td>\n",
       "      <td>2</td>\n",
       "      <td>1</td>\n",
       "      <td>14.0</td>\n",
       "      <td>3.4</td>\n",
       "      <td>0</td>\n",
       "      <td>...</td>\n",
       "      <td>28.2</td>\n",
       "      <td>3</td>\n",
       "      <td>missed</td>\n",
       "      <td>Bogdanovic, Bojan</td>\n",
       "      <td>202711</td>\n",
       "      <td>6.1</td>\n",
       "      <td>0</td>\n",
       "      <td>0</td>\n",
       "      <td>brian roberts</td>\n",
       "      <td>203148</td>\n",
       "    </tr>\n",
       "    <tr>\n",
       "      <th>2</th>\n",
       "      <td>21400899</td>\n",
       "      <td>MAR 04, 2015 - CHA @ BKN</td>\n",
       "      <td>A</td>\n",
       "      <td>W</td>\n",
       "      <td>24</td>\n",
       "      <td>3</td>\n",
       "      <td>1</td>\n",
       "      <td>0.0</td>\n",
       "      <td>NaN</td>\n",
       "      <td>3</td>\n",
       "      <td>...</td>\n",
       "      <td>10.1</td>\n",
       "      <td>2</td>\n",
       "      <td>missed</td>\n",
       "      <td>Bogdanovic, Bojan</td>\n",
       "      <td>202711</td>\n",
       "      <td>0.9</td>\n",
       "      <td>0</td>\n",
       "      <td>0</td>\n",
       "      <td>brian roberts</td>\n",
       "      <td>203148</td>\n",
       "    </tr>\n",
       "    <tr>\n",
       "      <th>3</th>\n",
       "      <td>21400899</td>\n",
       "      <td>MAR 04, 2015 - CHA @ BKN</td>\n",
       "      <td>A</td>\n",
       "      <td>W</td>\n",
       "      <td>24</td>\n",
       "      <td>4</td>\n",
       "      <td>2</td>\n",
       "      <td>707.0</td>\n",
       "      <td>10.3</td>\n",
       "      <td>2</td>\n",
       "      <td>...</td>\n",
       "      <td>17.2</td>\n",
       "      <td>2</td>\n",
       "      <td>missed</td>\n",
       "      <td>Brown, Markel</td>\n",
       "      <td>203900</td>\n",
       "      <td>3.4</td>\n",
       "      <td>0</td>\n",
       "      <td>0</td>\n",
       "      <td>brian roberts</td>\n",
       "      <td>203148</td>\n",
       "    </tr>\n",
       "    <tr>\n",
       "      <th>4</th>\n",
       "      <td>21400899</td>\n",
       "      <td>MAR 04, 2015 - CHA @ BKN</td>\n",
       "      <td>A</td>\n",
       "      <td>W</td>\n",
       "      <td>24</td>\n",
       "      <td>5</td>\n",
       "      <td>2</td>\n",
       "      <td>634.0</td>\n",
       "      <td>10.9</td>\n",
       "      <td>2</td>\n",
       "      <td>...</td>\n",
       "      <td>3.7</td>\n",
       "      <td>2</td>\n",
       "      <td>missed</td>\n",
       "      <td>Young, Thaddeus</td>\n",
       "      <td>201152</td>\n",
       "      <td>1.1</td>\n",
       "      <td>0</td>\n",
       "      <td>0</td>\n",
       "      <td>brian roberts</td>\n",
       "      <td>203148</td>\n",
       "    </tr>\n",
       "  </tbody>\n",
       "</table>\n",
       "<p>5 rows × 21 columns</p>\n",
       "</div>"
      ],
      "text/plain": [
       "    GAME_ID                   MATCHUP LOCATION  W  FINAL_MARGIN  SHOT_NUMBER  \\\n",
       "0  21400899  MAR 04, 2015 - CHA @ BKN        A  W            24            1   \n",
       "1  21400899  MAR 04, 2015 - CHA @ BKN        A  W            24            2   \n",
       "2  21400899  MAR 04, 2015 - CHA @ BKN        A  W            24            3   \n",
       "3  21400899  MAR 04, 2015 - CHA @ BKN        A  W            24            4   \n",
       "4  21400899  MAR 04, 2015 - CHA @ BKN        A  W            24            5   \n",
       "\n",
       "   PERIOD  GAME_CLOCK  SHOT_CLOCK  DRIBBLES  ...  SHOT_DIST  PTS_TYPE  \\\n",
       "0       1        69.0        10.8         2  ...        7.7         2   \n",
       "1       1        14.0         3.4         0  ...       28.2         3   \n",
       "2       1         0.0         NaN         3  ...       10.1         2   \n",
       "3       2       707.0        10.3         2  ...       17.2         2   \n",
       "4       2       634.0        10.9         2  ...        3.7         2   \n",
       "\n",
       "   SHOT_RESULT   CLOSEST_DEFENDER CLOSEST_DEFENDER_PLAYER_ID  CLOSE_DEF_DIST  \\\n",
       "0         made     Anderson, Alan                     101187             1.3   \n",
       "1       missed  Bogdanovic, Bojan                     202711             6.1   \n",
       "2       missed  Bogdanovic, Bojan                     202711             0.9   \n",
       "3       missed      Brown, Markel                     203900             3.4   \n",
       "4       missed    Young, Thaddeus                     201152             1.1   \n",
       "\n",
       "   FGM  PTS    player_name player_id  \n",
       "0    1    2  brian roberts    203148  \n",
       "1    0    0  brian roberts    203148  \n",
       "2    0    0  brian roberts    203148  \n",
       "3    0    0  brian roberts    203148  \n",
       "4    0    0  brian roberts    203148  \n",
       "\n",
       "[5 rows x 21 columns]"
      ]
     },
     "execution_count": 5,
     "metadata": {},
     "output_type": "execute_result"
    }
   ],
   "source": [
    "df.head()"
   ]
  },
  {
   "cell_type": "markdown",
   "metadata": {},
   "source": [
    "## Simple Statistics"
   ]
  },
  {
   "cell_type": "markdown",
   "metadata": {},
   "source": [
    "### Layups, jumpers, threes and their expected value"
   ]
  },
  {
   "cell_type": "markdown",
   "metadata": {},
   "source": [
    "Start by computing the league averages for layups (shots less than 5 ft from the basket), jumpers (between 5 and 22), and three pointers (more than 22 ft from the basket)."
   ]
  },
  {
   "cell_type": "code",
   "execution_count": 6,
   "metadata": {},
   "outputs": [
    {
     "name": "stdout",
     "output_type": "stream",
     "text": [
      "LAYUPS:  61.65 %\n",
      "JUMPERS:  41.58 %\n",
      "THREES:  35.11 %\n"
     ]
    }
   ],
   "source": [
    "layups = len(df[(df.SHOT_DIST <= 5) & (df.SHOT_RESULT == 'made')]) / len(df[(df.SHOT_DIST <= 5)])\n",
    "jumpers = len(df[(df.SHOT_DIST > 5) & (df.SHOT_DIST <= 22) & (df.SHOT_RESULT == 'made')]) / len(df[(df.SHOT_DIST > 5) & (df.SHOT_DIST <= 22)])\n",
    "threes = len(df[(df.SHOT_DIST > 22) & (df.SHOT_RESULT == 'made')]) / len(df[(df.SHOT_DIST > 22)])\n",
    "print('LAYUPS: ', round(layups*100, 2), \"%\")\n",
    "print('JUMPERS: ', round(jumpers*100, 2), \"%\")\n",
    "print('THREES: ', round(threes*100, 2), \"%\")"
   ]
  },
  {
   "cell_type": "markdown",
   "metadata": {},
   "source": [
    "Looking at these averages, it coincides with Houston Rocket's head coach Mike D'Antoni´s system (that prioritizes layups and three pointers), to make the offense more efficient. This is evident considering the value per shot. For layups, we can expect 1.233 points (0.6165 * 2) per attempt, and for threes we can expect 1.0533 per attempt; whereas long jumpers and floaters will only have an expected value of 0.83 per attempt."
   ]
  },
  {
   "cell_type": "markdown",
   "metadata": {},
   "source": [
    "### In the Clutch"
   ]
  },
  {
   "cell_type": "markdown",
   "metadata": {},
   "source": [
    "In this part of the project, the goal was to study how the shot percentage changes during clutch time (in this analysis clutch time will be considered as the last 5 minutes of regulation, and the final margin is less than 5 points). We will start by comparing the averages for the three types of shots mentioned earlier during the last 5 minutes to their usual percentage. "
   ]
  },
  {
   "cell_type": "code",
   "execution_count": 7,
   "metadata": {},
   "outputs": [
    {
     "name": "stdout",
     "output_type": "stream",
     "text": [
      "LAYUPS IN THE CLUTCH:  62.62 %\n",
      "JUMPERS IN THE CLUTCH:  40.12 %\n",
      "THREES IN THE CLUTCH:  35.15 %\n"
     ]
    }
   ],
   "source": [
    "# The last 5 minutes corresponds to a game clock after 300 seconds in period number 4\n",
    "clutch_time = (df.PERIOD == 4) & (df.GAME_CLOCK >300) & (df.FINAL_MARGIN <= 5) & (df.FINAL_MARGIN >= -5)\n",
    "clutch_layups = len(df[(df.SHOT_DIST <= 5) & (df.SHOT_RESULT == 'made') & clutch_time]) / len(df[(df.SHOT_DIST <= 5) & clutch_time])\n",
    "clutch_jumpers = len(df[(df.SHOT_DIST > 5) & (df.SHOT_DIST <= 22) & (df.SHOT_RESULT == 'made') & clutch_time]) / len(df[(df.SHOT_DIST > 5) & (df.SHOT_DIST <= 22) & clutch_time])\n",
    "clutch_threes = len(df[(df.SHOT_DIST > 22) & (df.SHOT_RESULT == 'made') & clutch_time]) / len(df[(df.SHOT_DIST > 22) & clutch_time])\n",
    "print('LAYUPS IN THE CLUTCH: ', round(clutch_layups*100, 2), \"%\")\n",
    "print('JUMPERS IN THE CLUTCH: ', round(clutch_jumpers*100, 2), \"%\")\n",
    "print('THREES IN THE CLUTCH: ', round(clutch_threes*100, 2), \"%\")\n"
   ]
  },
  {
   "cell_type": "markdown",
   "metadata": {},
   "source": [
    "From the results above, we can conclude that there isn't a significant change in percentages during the last 5 minutes of a close basketball game.\n",
    "\n",
    "The next step is to check if there is a change in shot creation (difference in the amount of a type of shot during clutch time). Usually, teams 'lock up' in close games, not allowing easier shots (layups)."
   ]
  },
  {
   "cell_type": "code",
   "execution_count": 8,
   "metadata": {},
   "outputs": [
    {
     "data": {
      "image/png": "[encoded data removed]",
      "text/plain": [
       "<Figure size 432x288 with 1 Axes>"
      ]
     },
     "metadata": {},
     "output_type": "display_data"
    }
   ],
   "source": [
    "n_layups = len(df[(df.SHOT_DIST <= 5)])\n",
    "n_jumpers = len(df[(df.SHOT_DIST > 5) & (df.SHOT_DIST <= 22)])\n",
    "n_threes = len(df[(df.SHOT_DIST > 22)])\n",
    "\n",
    "n_layups_clutch = len(df[(df.SHOT_DIST <= 5) & clutch_time])\n",
    "n_jumpers_clutch = len(df[(df.SHOT_DIST > 5) & (df.SHOT_DIST <= 22) & clutch_time])\n",
    "n_threes_clutch = len(df[(df.SHOT_DIST > 22) & clutch_time])\n",
    "\n",
    "# Data to plot\n",
    "labels = 'Layups', 'Jumpers', 'Threes'\n",
    "sizes = [n_layups, n_jumpers, n_threes]\n",
    "colors = ['gold', 'lightcoral', 'lightskyblue']\n",
    "\n",
    "# Plot\n",
    "plt.pie(sizes, labels=labels, colors=colors,\n",
    "autopct='%1.1f%%', shadow=True, startangle=140)\n",
    "\n",
    "plt.axis('equal')\n",
    "plt.show()"
   ]
  },
  {
   "cell_type": "markdown",
   "metadata": {},
   "source": [
    "Now the share for shot creation on clutch time are as follows:"
   ]
  },
  {
   "cell_type": "code",
   "execution_count": 9,
   "metadata": {},
   "outputs": [
    {
     "data": {
      "image/png": "[encoded data removed]",
      "text/plain": [
       "<Figure size 432x288 with 1 Axes>"
      ]
     },
     "metadata": {},
     "output_type": "display_data"
    }
   ],
   "source": [
    "# Data to plot\n",
    "labels = 'Layups in the clutch', 'Jumpers in the clutch', 'Threes in the clutch'\n",
    "sizes = [n_layups_clutch, n_jumpers_clutch, n_threes_clutch]\n",
    "colors = ['gold', 'lightcoral', 'lightskyblue']\n",
    "\n",
    "# Plot\n",
    "plt.pie(sizes, labels=labels, colors=colors,\n",
    "autopct='%1.1f%%', shadow=True, startangle=140)\n",
    "\n",
    "plt.axis('equal')\n",
    "plt.show()"
   ]
  },
  {
   "cell_type": "markdown",
   "metadata": {},
   "source": [
    "As shown on the pie chart above, we see a slight decrease of layups, along with an increase on both three pointers and jumpers."
   ]
  },
  {
   "cell_type": "markdown",
   "metadata": {},
   "source": [
    "Next, I'd like to explore the average distance of the defender during the game, compared to when the game is close. Naturally, it would make sense for players to put more effort on defense later on during the game when the score is close. "
   ]
  },
  {
   "cell_type": "code",
   "execution_count": 16,
   "metadata": {},
   "outputs": [
    {
     "name": "stdout",
     "output_type": "stream",
     "text": [
      "Average defender distance is  4.12 ft\n",
      "Average defender distance in the clutch is  4.03 ft\n"
     ]
    }
   ],
   "source": [
    "avg_def_dist = np.average((df.CLOSE_DEF_DIST))\n",
    "avg_def_dist_clutch = np.average(df[clutch_time].CLOSE_DEF_DIST)\n",
    "\n",
    "print(\"Average defender distance is \", round(avg_def_dist,2), \"ft\")\n",
    "print(\"Average defender distance in the clutch is \", round(avg_def_dist_clutch,2), \"ft\")"
   ]
  },
  {
   "cell_type": "markdown",
   "metadata": {},
   "source": [
    "Again, we see a slight difference when it comes to the end of the game. "
   ]
  }
 ],
 "metadata": {
  "kernelspec": {
   "display_name": "Python 3",
   "language": "python",
   "name": "python3"
  },
  "language_info": {
   "codemirror_mode": {
    "name": "ipython",
    "version": 3
   },
   "file_extension": ".py",
   "mimetype": "text/x-python",
   "name": "python",
   "nbconvert_exporter": "python",
   "pygments_lexer": "ipython3",
   "version": "3.7.3"
  }
 },
 "nbformat": 4,
 "nbformat_minor": 2
}
